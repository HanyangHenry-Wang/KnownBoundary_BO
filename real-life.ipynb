{
 "cells": [
  {
   "cell_type": "code",
   "execution_count": 1,
   "metadata": {},
   "outputs": [
    {
     "name": "stderr",
     "output_type": "stream",
     "text": [
      "/home/hanyang/anaconda3/envs/known_boundary/lib/python3.9/site-packages/tqdm/auto.py:21: TqdmWarning: IProgress not found. Please update jupyter and ipywidgets. See https://ipywidgets.readthedocs.io/en/stable/user_install.html\n",
      "  from .autonotebook import tqdm as notebook_tqdm\n"
     ]
    }
   ],
   "source": [
    "from known_boundary.GP import optimise,optimise_warp\n",
    "from known_boundary.utlis import Trans_function, get_initial_points,transform\n",
    "from known_boundary.acquisition_function import EI_acquisition_opt,MES_acquisition_opt,Warped_TEI2_acquisition_opt,LCB_acquisition_opt,ERM_acquisition_opt\n",
    "from obj_functions.obj_function import XGBoost"
   ]
  },
  {
   "cell_type": "code",
   "execution_count": 2,
   "metadata": {},
   "outputs": [],
   "source": [
    "import numpy as np\n",
    "import matplotlib.pyplot as plt\n",
    "import GPy\n",
    "import torch\n",
    "import botorch\n",
    "from botorch.utils.transforms import unnormalize,normalize"
   ]
  },
  {
   "cell_type": "code",
   "execution_count": 3,
   "metadata": {},
   "outputs": [],
   "source": [
    "import warnings\n",
    "warnings.filterwarnings(\"ignore\")"
   ]
  },
  {
   "cell_type": "code",
   "execution_count": 4,
   "metadata": {},
   "outputs": [],
   "source": [
    "device = torch.device(\"cuda\" if torch.cuda.is_available() else \"cpu\")\n",
    "dtype = torch.double"
   ]
  },
  {
   "cell_type": "code",
   "execution_count": 5,
   "metadata": {},
   "outputs": [],
   "source": [
    "standard_bounds =np.array([0.,1.]*6).reshape(-1,2) \n",
    "n_init = 18\n",
    "iter_num = 30\n",
    "N = 1"
   ]
  },
  {
   "cell_type": "markdown",
   "metadata": {},
   "source": [
    "# EI"
   ]
  },
  {
   "cell_type": "code",
   "execution_count": 6,
   "metadata": {},
   "outputs": [
    {
     "name": "stdout",
     "output_type": "stream",
     "text": [
      "0\n",
      "0\n",
      "1\n",
      "2\n",
      "3\n",
      "4\n",
      "5\n",
      "6\n",
      "7\n",
      "8\n",
      "9\n",
      "10\n",
      "11\n",
      "12\n",
      "13\n",
      "14\n",
      "15\n",
      "16\n",
      "17\n",
      "18\n",
      "19\n",
      "20\n",
      "21\n",
      "22\n",
      "23\n",
      "24\n",
      "25\n",
      "26\n",
      "27\n",
      "28\n",
      "29\n"
     ]
    }
   ],
   "source": [
    "BO_EI = []\n",
    "\n",
    "for exp in range(N):\n",
    "    \n",
    "    print(exp)\n",
    "\n",
    "    seed = exp\n",
    "    \n",
    "    fun = XGBoost(seed=exp)\n",
    "    dim = fun.dim\n",
    "    bounds = fun.bounds\n",
    "    \n",
    "    fstar = 100\n",
    "    fun = Trans_function(fun,fstar,min=False)\n",
    "    \n",
    "\n",
    "    X_BO = get_initial_points(bounds, n_init,device,dtype,seed=seed)\n",
    "    Y_BO = torch.tensor(\n",
    "        [fun(x) for x in X_BO], dtype=dtype, device=device\n",
    "    ).reshape(-1,1)\n",
    "\n",
    "\n",
    "    best_record = [Y_BO.min().item()]\n",
    "\n",
    "    for i in range(iter_num):\n",
    "        \n",
    "            print(i)\n",
    "        \n",
    "            train_Y = (Y_BO - Y_BO.mean()) / Y_BO.std()\n",
    "            train_X = normalize(X_BO, bounds)\n",
    "            \n",
    "            minimal = train_Y.min().item()\n",
    "            \n",
    "            train_Y = train_Y.numpy()\n",
    "            train_X = train_X.numpy()\n",
    "            \n",
    "            # train the GP\n",
    "            res = optimise(train_X,train_Y)\n",
    "            # print('lengthscale is: ',np.sqrt(res[0])) \n",
    "            # print('variance is: ',res[1])\n",
    "            kernel = GPy.kern.RBF(input_dim=dim,lengthscale= np.sqrt(res[0]),variance=res[1]) \n",
    "            m = GPy.models.GPRegression(train_X, train_Y,kernel)\n",
    "            m.Gaussian_noise.variance.fix(10**(-5))\n",
    "\n",
    "            standard_next_X = EI_acquisition_opt(m,bounds=standard_bounds,f_best=minimal)\n",
    "            X_next = unnormalize(torch.tensor(standard_next_X), bounds).reshape(-1,dim)            \n",
    "            Y_next = torch.tensor( [fun(X_next) ]).reshape(1,1)\n",
    "\n",
    "            # Append data\n",
    "            X_BO = torch.cat((X_BO, X_next), dim=0)\n",
    "            Y_BO = torch.cat((Y_BO, Y_next), dim=0)\n",
    "            \n",
    "            best_record.append(Y_BO.min().item())\n",
    "            #print(best_record)\n",
    "            \n",
    "    best_record = fstar-(np.array(best_record))\n",
    "    BO_EI.append(best_record)\n",
    "    \n",
    "np.savetxt('exp_res/XGBoost_BO_EI', BO_EI, delimiter=',')"
   ]
  },
  {
   "cell_type": "code",
   "execution_count": 7,
   "metadata": {},
   "outputs": [
    {
     "data": {
      "text/plain": [
       "[array([98.15280289, 98.15280289, 98.15280289, 98.20177323, 98.34866315,\n",
       "        98.34866315, 98.35682494, 98.35954492, 98.35954492, 98.35954492,\n",
       "        98.53365571, 98.61527208, 98.61527208, 98.61527208, 98.61527208,\n",
       "        98.61527208, 98.61527208, 98.61527208, 98.62071167, 98.62071167,\n",
       "        98.62071167, 98.62071167, 98.62071167, 98.62071167, 98.62071167,\n",
       "        98.62071167, 98.62071167, 98.62071167, 98.64519591, 98.64519591,\n",
       "        98.65335659])]"
      ]
     },
     "execution_count": 7,
     "metadata": {},
     "output_type": "execute_result"
    }
   ],
   "source": [
    "BO_EI"
   ]
  },
  {
   "cell_type": "markdown",
   "metadata": {},
   "source": [
    "# MES"
   ]
  },
  {
   "cell_type": "code",
   "execution_count": 40,
   "metadata": {},
   "outputs": [
    {
     "name": "stdout",
     "output_type": "stream",
     "text": [
      "0\n"
     ]
    }
   ],
   "source": [
    "BO_MES = []\n",
    "\n",
    "for exp in range(N):\n",
    "\n",
    "    seed = exp\n",
    "    \n",
    "    print(exp)\n",
    "    \n",
    "    fun = XGBoost(seed=exp)\n",
    "    dim = fun.dim\n",
    "    bounds = fun.bounds\n",
    "    \n",
    "    fstar = 100\n",
    "    fun = Trans_function(fun,fstar,min=False)\n",
    "\n",
    "\n",
    "    X_BO = get_initial_points(bounds, n_init,device,dtype,seed=seed)\n",
    "    Y_BO = torch.tensor(\n",
    "        [fun(x.numpy()) for x in X_BO], dtype=dtype, device=device\n",
    "    ).reshape(-1,1)\n",
    "    \n",
    "    fstar_mes = 0. \n",
    "\n",
    "    best_record = [Y_BO.min().item()]\n",
    "\n",
    "    for i in range(iter_num):\n",
    "        \n",
    "            train_Y = (Y_BO - Y_BO.mean()) / Y_BO.std()\n",
    "            train_X = normalize(X_BO, bounds)\n",
    "            \n",
    "            \n",
    "            fstar_standard = (fstar_mes - Y_BO.mean()) / Y_BO.std()\n",
    "            fstar_standard = fstar_standard.item()\n",
    "            \n",
    "            train_Y = train_Y.numpy()\n",
    "            train_X = train_X.numpy()\n",
    "            \n",
    "            # train the GP\n",
    "            res = optimise(train_X,train_Y)\n",
    "            kernel = GPy.kern.RBF(input_dim=dim,lengthscale= np.sqrt(res[0]),variance=res[1]) \n",
    "            m = GPy.models.GPRegression(train_X, train_Y,kernel)\n",
    "            m.Gaussian_noise.variance.fix(10**(-5))\n",
    "\n",
    "            standard_next_X = MES_acquisition_opt(m,standard_bounds,fstar_standard)\n",
    "            X_next = unnormalize(torch.tensor(standard_next_X), bounds).reshape(-1,dim)            \n",
    "            Y_next = torch.tensor( [fun(X_next.numpy().reshape(6,)) ]).reshape(1,1)\n",
    "\n",
    "            # Append data\n",
    "            X_BO = torch.cat((X_BO, X_next), dim=0)\n",
    "            Y_BO = torch.cat((Y_BO, Y_next), dim=0)\n",
    "            \n",
    "            best_record.append(Y_BO.min().item())\n",
    "            \n",
    "    best_record = fstar-(np.array(best_record))\n",
    "    BO_MES.append(best_record)\n",
    "\n",
    "\n"
   ]
  },
  {
   "cell_type": "code",
   "execution_count": 37,
   "metadata": {},
   "outputs": [],
   "source": [
    "fun = XGBoost(seed=exp)\n",
    "dim = fun.dim\n",
    "bounds = fun.bounds\n",
    "\n",
    "fstar = 100\n",
    "fun = Trans_function(fun,fstar,min=False)\n",
    "\n",
    "\n",
    "X_BO = get_initial_points(bounds, n_init,device,dtype,seed=seed)\n",
    "Y_BO = torch.tensor(\n",
    "    [fun(x.numpy()) for x in X_BO], dtype=dtype, device=device\n",
    ").reshape(-1,1)\n",
    "\n",
    "# Y_BO = torch.tensor(\n",
    "#     [fun(x.numpy()) for x in X_BO], dtype=dtype, device=device\n",
    "# ).reshape(-1,1)"
   ]
  },
  {
   "cell_type": "code",
   "execution_count": 38,
   "metadata": {},
   "outputs": [
    {
     "data": {
      "text/plain": [
       "tensor([[14.7699],\n",
       "        [ 2.2553],\n",
       "        [ 2.3287],\n",
       "        [14.7318],\n",
       "        [15.2814],\n",
       "        [14.7944],\n",
       "        [ 2.0322],\n",
       "        [14.9222],\n",
       "        [15.0012],\n",
       "        [ 2.7776],\n",
       "        [ 1.9043],\n",
       "        [14.8189],\n",
       "        [14.8760],\n",
       "        [ 1.8472],\n",
       "        [15.0692],\n",
       "        [14.5523],\n",
       "        [ 2.8782],\n",
       "        [14.8053]], dtype=torch.float64)"
      ]
     },
     "execution_count": 38,
     "metadata": {},
     "output_type": "execute_result"
    }
   ],
   "source": [
    "Y_BO"
   ]
  },
  {
   "cell_type": "code",
   "execution_count": 30,
   "metadata": {},
   "outputs": [],
   "source": [
    "fun = XGBoost(seed=exp)\n",
    "dim = fun.dim\n",
    "bounds = fun.bounds\n",
    "\n",
    "fstar = 100\n",
    "fun = Trans_function(fun,fstar,min=False)\n",
    "\n",
    "\n",
    "X_BO = get_initial_points(bounds, n_init,device,dtype,seed=seed)\n",
    "Y_BO = torch.tensor(\n",
    "    [fun(x) for x in X_BO], dtype=dtype, device=device\n",
    ").reshape(-1,1)"
   ]
  },
  {
   "cell_type": "code",
   "execution_count": 31,
   "metadata": {},
   "outputs": [
    {
     "data": {
      "text/plain": [
       "tensor([[nan],\n",
       "        [nan],\n",
       "        [nan],\n",
       "        [nan],\n",
       "        [nan],\n",
       "        [nan],\n",
       "        [nan],\n",
       "        [nan],\n",
       "        [nan],\n",
       "        [nan],\n",
       "        [nan],\n",
       "        [nan],\n",
       "        [nan],\n",
       "        [nan],\n",
       "        [nan],\n",
       "        [nan],\n",
       "        [nan],\n",
       "        [nan]], dtype=torch.float64)"
      ]
     },
     "execution_count": 31,
     "metadata": {},
     "output_type": "execute_result"
    }
   ],
   "source": [
    "Y_BO"
   ]
  },
  {
   "cell_type": "code",
   "execution_count": 15,
   "metadata": {},
   "outputs": [
    {
     "data": {
      "text/plain": [
       "tensor([[nan],\n",
       "        [nan],\n",
       "        [nan],\n",
       "        [nan],\n",
       "        [nan],\n",
       "        [nan],\n",
       "        [nan],\n",
       "        [nan],\n",
       "        [nan],\n",
       "        [nan],\n",
       "        [nan],\n",
       "        [nan],\n",
       "        [nan],\n",
       "        [nan],\n",
       "        [nan],\n",
       "        [nan],\n",
       "        [nan],\n",
       "        [nan]], dtype=torch.float64)"
      ]
     },
     "execution_count": 15,
     "metadata": {},
     "output_type": "execute_result"
    }
   ],
   "source": [
    "Y_BO"
   ]
  },
  {
   "cell_type": "code",
   "execution_count": 9,
   "metadata": {},
   "outputs": [
    {
     "data": {
      "text/plain": [
       "6"
      ]
     },
     "execution_count": 9,
     "metadata": {},
     "output_type": "execute_result"
    }
   ],
   "source": [
    "dim"
   ]
  },
  {
   "cell_type": "code",
   "execution_count": 10,
   "metadata": {},
   "outputs": [
    {
     "data": {
      "text/plain": [
       "tensor([[6.9881, 7.8309, 7.7919, 6.5102, 0.5698, 0.8017]], dtype=torch.float64)"
      ]
     },
     "execution_count": 10,
     "metadata": {},
     "output_type": "execute_result"
    }
   ],
   "source": [
    "X_next.reshape()"
   ]
  },
  {
   "cell_type": "code",
   "execution_count": 11,
   "metadata": {},
   "outputs": [
    {
     "ename": "IndexError",
     "evalue": "index 1 is out of bounds for dimension 0 with size 1",
     "output_type": "error",
     "traceback": [
      "\u001b[0;31m---------------------------------------------------------------------------\u001b[0m",
      "\u001b[0;31mIndexError\u001b[0m                                Traceback (most recent call last)",
      "Cell \u001b[0;32mIn[11], line 1\u001b[0m\n\u001b[0;32m----> 1\u001b[0m fun(X_next)\n",
      "File \u001b[0;32m~/Documents/KnownBoundary_BO/known_boundary/utlis.py:29\u001b[0m, in \u001b[0;36mTrans_function.__call__\u001b[0;34m(self, X)\u001b[0m\n\u001b[1;32m     27\u001b[0m \u001b[39melse\u001b[39;00m:\n\u001b[1;32m     28\u001b[0m     fstar \u001b[39m=\u001b[39m \u001b[39m-\u001b[39m\u001b[39mself\u001b[39m\u001b[39m.\u001b[39mfstar\n\u001b[0;32m---> 29\u001b[0m     y \u001b[39m=\u001b[39m \u001b[39m-\u001b[39m\u001b[39mself\u001b[39;49m\u001b[39m.\u001b[39;49mfun(X)\u001b[39m-\u001b[39mfstar\n\u001b[1;32m     31\u001b[0m \u001b[39mreturn\u001b[39;00m y\n",
      "File \u001b[0;32m~/Documents/KnownBoundary_BO/obj_functions/obj_function.py:32\u001b[0m, in \u001b[0;36mXGBoost.__call__\u001b[0;34m(self, X)\u001b[0m\n\u001b[1;32m     29\u001b[0m \u001b[39mdef\u001b[39;00m \u001b[39m__call__\u001b[39m(\u001b[39mself\u001b[39m, X): \u001b[39m# this is actually a Branin function\u001b[39;00m\n\u001b[0;32m---> 32\u001b[0m     alpha,gamma,max_depth,min_child_weight,subsample,colsample\u001b[39m=\u001b[39mX[\u001b[39m0\u001b[39m],X[\u001b[39m1\u001b[39;49m],X[\u001b[39m2\u001b[39m],X[\u001b[39m3\u001b[39m],X[\u001b[39m4\u001b[39m],X[\u001b[39m5\u001b[39m]\n\u001b[1;32m     34\u001b[0m     \u001b[39m#data = np.genfromtxt('Skin_NonSkin.txt', dtype=np.int32)\u001b[39;00m\n\u001b[1;32m     36\u001b[0m     outputs \u001b[39m=\u001b[39m \u001b[39mself\u001b[39m\u001b[39m.\u001b[39mdata[:,\u001b[39m3\u001b[39m]\n",
      "\u001b[0;31mIndexError\u001b[0m: index 1 is out of bounds for dimension 0 with size 1"
     ]
    }
   ],
   "source": [
    "fun(X_next)"
   ]
  },
  {
   "cell_type": "code",
   "execution_count": 13,
   "metadata": {},
   "outputs": [
    {
     "ename": "IndexError",
     "evalue": "index 1 is out of bounds for dimension 0 with size 1",
     "output_type": "error",
     "traceback": [
      "\u001b[0;31m---------------------------------------------------------------------------\u001b[0m",
      "\u001b[0;31mIndexError\u001b[0m                                Traceback (most recent call last)",
      "Cell \u001b[0;32mIn[13], line 1\u001b[0m\n\u001b[0;32m----> 1\u001b[0m X_next[\u001b[39m1\u001b[39;49m]\n",
      "\u001b[0;31mIndexError\u001b[0m: index 1 is out of bounds for dimension 0 with size 1"
     ]
    }
   ],
   "source": [
    "X_next[1]"
   ]
  },
  {
   "cell_type": "markdown",
   "metadata": {},
   "source": [
    "# ERM"
   ]
  },
  {
   "cell_type": "code",
   "execution_count": null,
   "metadata": {},
   "outputs": [],
   "source": [
    "BO_ERM = []\n",
    "\n",
    "for exp in range(N):\n",
    "\n",
    "  print(exp)  \n",
    "  seed = exp\n",
    "  \n",
    "  fun = XGBoost(seed=exp)\n",
    "  dim = fun.dim\n",
    "  bounds = fun.bounds\n",
    "  \n",
    "  fstar = 100\n",
    "  fun = Trans_function(fun,fstar,min=False)\n",
    "\n",
    "  fstar0 = 0.\n",
    "  Trans = False\n",
    "\n",
    "  X_BO = get_initial_points(bounds, n_init,device,dtype,seed=seed)\n",
    "  Y_BO = torch.tensor(\n",
    "            [fun(x) for x in X_BO], dtype=dtype, device=device\n",
    "        ).reshape(-1,1)\n",
    "\n",
    "  best_record = [Y_BO.min().item()]\n",
    "\n",
    "  for iter in range(iter_num):\n",
    "\n",
    "    #print(iter)\n",
    "    train_Y = (Y_BO - Y_BO.mean()) / Y_BO.std()\n",
    "    train_X = normalize(X_BO, bounds)\n",
    "    \n",
    "    train_Y = train_Y.numpy()\n",
    "    train_X = train_X.numpy()\n",
    "    \n",
    "\n",
    "    fstar_standard = (fstar0 - Y_BO.mean()) / Y_BO.std()\n",
    "    fstar_standard = fstar_standard.item()\n",
    "    \n",
    "    if not Trans:\n",
    "      minimal = np.min(train_X)\n",
    "      res = optimise(train_X,train_Y)\n",
    "      kernel = GPy.kern.RBF(input_dim=dim,lengthscale= np.sqrt(res[0]),variance=res[1]) \n",
    "      m = GPy.models.GPRegression(train_X, train_Y,kernel)\n",
    "      m.Gaussian_noise.variance.fix(10**(-5))\n",
    "\n",
    "      standard_next_X = EI_acquisition_opt(m,bounds=standard_bounds,f_best=minimal)\n",
    "      \n",
    "      beta = np.sqrt(np.log(train_X.shape[0]))\n",
    "      _,lcb = LCB_acquisition_opt(m,standard_bounds,beta)\n",
    "      if lcb < fstar_standard:\n",
    "        Trans = True\n",
    "      \n",
    "    else:\n",
    "      \n",
    "      #print('transfromed GP')\n",
    "              \n",
    "      train_Y_transform = transform(y=train_Y,fstar=fstar_standard)\n",
    "      mean_temp = np.mean(train_Y_transform)\n",
    "      \n",
    "      res = optimise(train_X,(train_Y_transform-mean_temp))\n",
    "      kernel = GPy.kern.RBF(input_dim=dim,lengthscale= np.sqrt(res[0]),variance=res[1]) \n",
    "      m = GPy.models.GPRegression(train_X, train_Y_transform-mean_temp,kernel)\n",
    "      m.Gaussian_noise.variance.fix(10**(-5))\n",
    "      standard_next_X,erm_value = ERM_acquisition_opt(m,bounds=standard_bounds,fstar=fstar_standard,mean_temp=mean_temp)\n",
    "    \n",
    "    \n",
    "    X_next = unnormalize(torch.tensor(standard_next_X), bounds).reshape(-1,dim)     \n",
    "    Y_next = fun(X_next).reshape(-1,1)\n",
    "\n",
    "    # Append data\n",
    "    X_BO = torch.cat((X_BO, X_next), dim=0)\n",
    "    Y_BO = torch.cat((Y_BO, Y_next), dim=0)\n",
    "\n",
    "    best_value = float(Y_BO.min())\n",
    "    best_record.append(best_value)\n",
    "\n",
    "\n",
    "  best_record = fstar-(np.array(best_record))\n",
    "  BO_ERM.append(best_record)\n",
    "  \n",
    "np.savetxt('exp_res/XGBoost_BO_ERM', BO_ERM, delimiter=',')"
   ]
  },
  {
   "cell_type": "markdown",
   "metadata": {},
   "source": [
    "# Plot"
   ]
  },
  {
   "cell_type": "code",
   "execution_count": 12,
   "metadata": {},
   "outputs": [
    {
     "data": {
      "text/plain": [
       "<matplotlib.legend.Legend at 0x7f89cef8bfa0>"
      ]
     },
     "execution_count": 12,
     "metadata": {},
     "output_type": "execute_result"
    },
    {
     "data": {
      "image/png": "[encoded data removed]",
      "text/plain": [
       "<Figure size 640x480 with 1 Axes>"
      ]
     },
     "metadata": {},
     "output_type": "display_data"
    }
   ],
   "source": [
    "N = 10\n",
    "\n",
    "total_record = np.array(BO_EI)\n",
    "mean = np.mean(total_record,axis=0)\n",
    "std = np.std(total_record,axis=0)\n",
    "iter = np.array(range(mean.shape[0]))\n",
    "plt.plot(mean,linewidth=3,label='GP+EI',color='blue')\n",
    "plt.fill_between(iter, mean-std/np.sqrt(N), mean+std/np.sqrt(N),alpha=0.25,color='blue')\n",
    "\n",
    "# total_record = np.array(BO_MES)-fstar\n",
    "# mean = np.mean(total_record,axis=0)\n",
    "# std = np.std(total_record,axis=0)\n",
    "# iter = np.array(range(mean.shape[0]))\n",
    "# plt.plot(mean,linewidth=3,label='GP+MES',color='#c22f2f')\n",
    "# plt.fill_between(iter, mean-std/np.sqrt(N), mean+std/np.sqrt(N),alpha=0.25,color='#c22f2f')\n",
    "\n",
    "# total_record = np.array(Warped_BO_TEI2)-fstar\n",
    "# mean = np.mean(total_record,axis=0)\n",
    "# std = np.std(total_record,axis=0)\n",
    "# iter = np.array(range(mean.shape[0]))\n",
    "# plt.plot(mean,linewidth=3,label='log GP +TEI2',color='yellow')\n",
    "# plt.fill_between(iter, mean-std/np.sqrt(N), mean+std/np.sqrt(N),alpha=0.25,color='yellow')\n",
    "\n",
    "# total_record = np.array(BO_ERM)-fstar\n",
    "# mean = np.mean(total_record,axis=0)\n",
    "# std = np.std(total_record,axis=0)\n",
    "# iter = np.array(range(mean.shape[0]))\n",
    "# plt.plot(mean,linewidth=3,label='ERM',color='black')\n",
    "# plt.fill_between(iter, mean-std/np.sqrt(N), mean+std/np.sqrt(N),alpha=0.25,color='black')\n",
    "\n",
    "# total_record = np.array(BO_LCB)-fstar\n",
    "# mean = np.mean(total_record,axis=0)\n",
    "# std = np.std(total_record,axis=0)\n",
    "# iter = np.array(range(mean.shape[0]))\n",
    "# plt.plot(mean,linewidth=3,label='LCB',color='green')\n",
    "# plt.fill_between(iter, mean-std/np.sqrt(N), mean+std/np.sqrt(N),alpha=0.25,color='green')\n",
    "\n",
    "plt.legend()"
   ]
  }
 ],
 "metadata": {
  "kernelspec": {
   "display_name": "Python 3.9.16 64-bit ('known_boundary': conda)",
   "language": "python",
   "name": "python3"
  },
  "language_info": {
   "codemirror_mode": {
    "name": "ipython",
    "version": 3
   },
   "file_extension": ".py",
   "mimetype": "text/x-python",
   "name": "python",
   "nbconvert_exporter": "python",
   "pygments_lexer": "ipython3",
   "version": "3.9.16"
  },
  "orig_nbformat": 4,
  "vscode": {
   "interpreter": {
    "hash": "452d48a5b48f3a55107387e321143eb3eae83989acbdba28ba53d2ab743832f0"
   }
  }
 },
 "nbformat": 4,
 "nbformat_minor": 2
}
