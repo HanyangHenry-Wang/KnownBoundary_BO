{
 "cells": [
  {
   "cell_type": "code",
   "execution_count": 9,
   "metadata": {},
   "outputs": [],
   "source": [
    "import numpy as np\n",
    "import scipy\n",
    "from sklearn.metrics.pairwise import euclidean_distances\n",
    "\n",
    "\n",
    "def cov_RBF(x1, x2, parameters):  \n",
    "    \n",
    "    lengthscale_square =   parameters[:,0]  # lengthscale^2\n",
    "    variance = parameters[:,1] # sigma^2\n",
    "\n",
    "\n",
    "    if x1.shape[1]!=x2.shape[1]:\n",
    "        x1=np.reshape(x1,(-1,x2.shape[1]))\n",
    "\n",
    "    Euc_dist=euclidean_distances(x1,x2)\n",
    "\n",
    "    return variance*np.exp(-0.5*np.square(Euc_dist)/lengthscale_square)\n",
    "\n",
    "def log_llk(X,y,parameters):\n",
    "\n",
    "    noise_delta = 10**(-6)\n",
    "    \n",
    "    parameters = parameters.reshape(-1,2)\n",
    "    \n",
    "    if np.isnan(parameters).any():\n",
    "        print('issue with scipy.minimize!')\n",
    "        \n",
    "        return -np.inf\n",
    "\n",
    "    KK_x_x=cov_RBF(X,X,parameters)+np.eye(len(X))*noise_delta     \n",
    "    if np.isnan(KK_x_x).any(): #NaN\n",
    "        print(\"nan in KK_x_x !\")   \n",
    "        #print('X is: ',X)\n",
    "        print('parameter is: ',parameters)\n",
    "        print(np.isnan(parameters).any())\n",
    "\n",
    "    try:\n",
    "        L=scipy.linalg.cholesky(KK_x_x,lower=True)\n",
    "        alpha=np.linalg.solve(KK_x_x,y)\n",
    "\n",
    "    except: # singular\n",
    "        return -np.inf\n",
    "    \n",
    "    try:\n",
    "        first_term = -0.5*np.log(np.linalg.det(KK_x_x))\n",
    "        \n",
    "        KK_inv = np.linalg.inv(KK_x_x)\n",
    "        second_term = -0.5* np.dot(np.dot(y.T,KK_inv),y)\n",
    "            \n",
    "\n",
    "    except: # singular\n",
    "        return -np.inf\n",
    "\n",
    "    logmarginal = first_term+second_term -0.5*len(y)*np.log(2*3.1415926)\n",
    "    \n",
    "    return logmarginal.item()\n"
   ]
  },
  {
   "cell_type": "code",
   "execution_count": 7,
   "metadata": {},
   "outputs": [],
   "source": [
    "X = np.array([[1,1],[1.5,0.8],[2.1,0.3],[1.35,2.0]])"
   ]
  },
  {
   "cell_type": "code",
   "execution_count": 8,
   "metadata": {},
   "outputs": [
    {
     "data": {
      "text/plain": [
       "array([[0.        , 0.53851648, 1.30384048, 1.05948101],\n",
       "       [0.53851648, 0.        , 0.78102497, 1.20933866],\n",
       "       [1.30384048, 0.78102497, 0.        , 1.85809042],\n",
       "       [1.05948101, 1.20933866, 1.85809042, 0.        ]])"
      ]
     },
     "execution_count": 8,
     "metadata": {},
     "output_type": "execute_result"
    }
   ],
   "source": [
    "euclidean_distances(X,X)"
   ]
  },
  {
   "cell_type": "code",
   "execution_count": 5,
   "metadata": {},
   "outputs": [
    {
     "data": {
      "text/plain": [
       "array([[1.44      , 1.1480681 , 0.38156201, 0.59911003],\n",
       "       [1.1480681 , 1.44      , 0.89411633, 0.45935359],\n",
       "       [0.38156201, 0.89411633, 1.44      , 0.09704092],\n",
       "       [0.59911003, 0.45935359, 0.09704092, 1.44      ]])"
      ]
     },
     "execution_count": 5,
     "metadata": {},
     "output_type": "execute_result"
    }
   ],
   "source": [
    "cov_RBF(X, X, np.array([[0.8**2,1.2**2]]))"
   ]
  },
  {
   "cell_type": "code",
   "execution_count": 20,
   "metadata": {},
   "outputs": [],
   "source": [
    "X = np.array([[1,1],[1.5,0.8],[2.1,0.3],[1.35,2.0]])\n",
    "Y = np.array([0.8,1.2,0.3,0.75]).reshape(-1,1)"
   ]
  },
  {
   "cell_type": "code",
   "execution_count": 21,
   "metadata": {},
   "outputs": [
    {
     "data": {
      "text/plain": [
       "-4.236568433836075"
      ]
     },
     "execution_count": 21,
     "metadata": {},
     "output_type": "execute_result"
    }
   ],
   "source": [
    "log_llk(X,Y,np.array([[0.8**2,1.2**2]]))"
   ]
  },
  {
   "cell_type": "code",
   "execution_count": 18,
   "metadata": {},
   "outputs": [],
   "source": [
    "parameters = np.array([[0.8**2,1.2**2]])\n",
    "noise_delta = 10**(-6)\n",
    "KK_x_x=cov_RBF(X,X,parameters)+np.eye(len(X))*noise_delta  "
   ]
  },
  {
   "cell_type": "code",
   "execution_count": 19,
   "metadata": {},
   "outputs": [
    {
     "name": "stdout",
     "output_type": "stream",
     "text": [
      "0.250230431541768\n",
      "[[ 2.63437602 -2.55876088  0.91373481 -0.34137112]\n",
      " [-2.55876088  3.77778011 -1.66576656 -0.02827084]\n",
      " [ 0.91373481 -1.66576656  1.48317113  0.05126376]\n",
      " [-0.34137112 -0.02827084  0.05126376  0.84203448]]\n",
      "[[-0.81104477]]\n"
     ]
    }
   ],
   "source": [
    "first_term = -0.5*np.log(np.linalg.det(KK_x_x))\n",
    "print(first_term)\n",
    "KK_inv = np.linalg.inv(KK_x_x)\n",
    "print(KK_inv)\n",
    "second_term = -0.5* np.dot(np.dot(Y.T,KK_inv),Y)\n",
    "print(second_term)"
   ]
  },
  {
   "cell_type": "code",
   "execution_count": 22,
   "metadata": {},
   "outputs": [
    {
     "data": {
      "text/plain": [
       "array([[-4.23656843]])"
      ]
     },
     "execution_count": 22,
     "metadata": {},
     "output_type": "execute_result"
    }
   ],
   "source": [
    "first_term+second_term -0.5*len(Y)*np.log(2*3.1415926)"
   ]
  },
  {
   "cell_type": "code",
   "execution_count": 23,
   "metadata": {},
   "outputs": [
    {
     "data": {
      "text/plain": [
       "3.675754098702369"
      ]
     },
     "execution_count": 23,
     "metadata": {},
     "output_type": "execute_result"
    }
   ],
   "source": [
    "0.5*len(Y)*np.log(2*3.1415926)"
   ]
  },
  {
   "cell_type": "code",
   "execution_count": 24,
   "metadata": {},
   "outputs": [
    {
     "data": {
      "text/plain": [
       "1.8378770493511845"
      ]
     },
     "execution_count": 24,
     "metadata": {},
     "output_type": "execute_result"
    }
   ],
   "source": [
    "np.log(2*3.1415926)"
   ]
  }
 ],
 "metadata": {
  "kernelspec": {
   "display_name": "Python 3.9.16 64-bit ('known_boundary': conda)",
   "language": "python",
   "name": "python3"
  },
  "language_info": {
   "codemirror_mode": {
    "name": "ipython",
    "version": 3
   },
   "file_extension": ".py",
   "mimetype": "text/x-python",
   "name": "python",
   "nbconvert_exporter": "python",
   "pygments_lexer": "ipython3",
   "version": "3.9.16"
  },
  "orig_nbformat": 4,
  "vscode": {
   "interpreter": {
    "hash": "452d48a5b48f3a55107387e321143eb3eae83989acbdba28ba53d2ab743832f0"
   }
  }
 },
 "nbformat": 4,
 "nbformat_minor": 2
}
