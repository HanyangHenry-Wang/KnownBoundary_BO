{
 "cells": [
  {
   "cell_type": "code",
   "execution_count": 2,
   "metadata": {},
   "outputs": [],
   "source": [
    "from known_boundary.GP import optimise,optimise_warp\n",
    "from known_boundary.utlis import Trans_function, get_initial_points,transform\n",
    "from known_boundary.acquisition_function import EI_acquisition_opt,MES_acquisition_opt,Warped_TEI2_acquisition_opt,LCB_acquisition_opt,ERM_acquisition_opt"
   ]
  },
  {
   "cell_type": "code",
   "execution_count": 3,
   "metadata": {},
   "outputs": [],
   "source": [
    "import numpy as np\n",
    "import matplotlib.pyplot as plt\n",
    "import GPy\n",
    "import torch\n",
    "import botorch\n",
    "from botorch.test_functions import Ackley,Levy,Beale,Branin,Hartmann,Rosenbrock,Powell\n",
    "from botorch.utils.transforms import unnormalize,normalize"
   ]
  },
  {
   "cell_type": "code",
   "execution_count": 4,
   "metadata": {},
   "outputs": [],
   "source": [
    "import warnings\n",
    "warnings.filterwarnings(\"ignore\")"
   ]
  },
  {
   "cell_type": "code",
   "execution_count": 5,
   "metadata": {},
   "outputs": [],
   "source": [
    "device = torch.device(\"cuda\" if torch.cuda.is_available() else \"cpu\")\n",
    "dtype = torch.double"
   ]
  },
  {
   "cell_type": "code",
   "execution_count": 5,
   "metadata": {},
   "outputs": [],
   "source": [
    "fun = Branin(negate=False)\n",
    "dim = fun.dim\n",
    "bounds = fun.bounds\n",
    "standard_bounds=np.array([0.,1.]*dim).reshape(-1,2)\n",
    " \n",
    "n_init = 4*dim\n",
    "iter_num = 10*dim\n",
    "N = 10\n",
    "\n",
    "fstar = 0.\n",
    "fun = Trans_function(fun,fstar,min=True)"
   ]
  },
  {
   "cell_type": "markdown",
   "metadata": {},
   "source": [
    "# GP+EI"
   ]
  },
  {
   "cell_type": "code",
   "execution_count": 6,
   "metadata": {},
   "outputs": [
    {
     "name": "stdout",
     "output_type": "stream",
     "text": [
      "0\n",
      "1\n",
      "2\n",
      "3\n",
      "4\n",
      "5\n",
      "6\n",
      "7\n",
      "8\n",
      "9\n"
     ]
    }
   ],
   "source": [
    "BO_EI = []\n",
    "\n",
    "for exp in range(N):\n",
    "    \n",
    "    print(exp)\n",
    "\n",
    "    seed = exp\n",
    "\n",
    "    X_BO = get_initial_points(bounds, n_init,device,dtype,seed=seed)\n",
    "    Y_BO = torch.tensor(\n",
    "        [fun(x) for x in X_BO], dtype=dtype, device=device\n",
    "    ).reshape(-1,1)\n",
    "\n",
    "\n",
    "    best_record = [Y_BO.min().item()]\n",
    "\n",
    "    for i in range(iter_num):\n",
    "        \n",
    "            train_Y = (Y_BO - Y_BO.mean()) / Y_BO.std()\n",
    "            train_X = normalize(X_BO, bounds)\n",
    "            \n",
    "            minimal = train_Y.min().item()\n",
    "            \n",
    "            train_Y = train_Y.numpy()\n",
    "            train_X = train_X.numpy()\n",
    "            \n",
    "            # train the GP\n",
    "            res = optimise(train_X,train_Y)\n",
    "            # print('lengthscale is: ',np.sqrt(res[0])) \n",
    "            # print('variance is: ',res[1])\n",
    "            kernel = GPy.kern.RBF(input_dim=dim,lengthscale= np.sqrt(res[0]),variance=res[1]) \n",
    "            m = GPy.models.GPRegression(train_X, train_Y,kernel)\n",
    "            m.Gaussian_noise.variance.fix(10**(-5))\n",
    "\n",
    "            standard_next_X = EI_acquisition_opt(m,bounds=standard_bounds,f_best=minimal)\n",
    "            X_next = unnormalize(torch.tensor(standard_next_X), bounds).reshape(-1,dim)            \n",
    "            Y_next = fun(X_next).reshape(-1,1)\n",
    "\n",
    "            # Append data\n",
    "            X_BO = torch.cat((X_BO, X_next), dim=0)\n",
    "            Y_BO = torch.cat((Y_BO, Y_next), dim=0)\n",
    "            \n",
    "            best_record.append(Y_BO.min().item())\n",
    "            #print(best_record)\n",
    "            \n",
    "    best_record = np.array(best_record)+fstar \n",
    "    BO_EI.append(best_record)"
   ]
  },
  {
   "cell_type": "markdown",
   "metadata": {},
   "source": [
    "# GP+LCB"
   ]
  },
  {
   "cell_type": "code",
   "execution_count": 7,
   "metadata": {},
   "outputs": [
    {
     "name": "stdout",
     "output_type": "stream",
     "text": [
      "0\n",
      "1\n",
      "2\n",
      "3\n",
      "4\n",
      "5\n",
      "6\n",
      "7\n",
      "8\n",
      "9\n"
     ]
    }
   ],
   "source": [
    "BO_LCB = []\n",
    "\n",
    "for exp in range(N):\n",
    "    \n",
    "    print(exp)\n",
    "\n",
    "    seed = exp\n",
    "\n",
    "    X_BO = get_initial_points(bounds, n_init,device,dtype,seed=seed)\n",
    "    Y_BO = torch.tensor(\n",
    "        [fun(x) for x in X_BO], dtype=dtype, device=device\n",
    "    ).reshape(-1,1)\n",
    "\n",
    "\n",
    "    best_record = [Y_BO.min().item()]\n",
    "\n",
    "    for i in range(iter_num):\n",
    "        \n",
    "            train_Y = (Y_BO - Y_BO.mean()) / Y_BO.std()\n",
    "            train_X = normalize(X_BO, bounds)\n",
    "            \n",
    "            minimal = train_Y.min().item()\n",
    "            \n",
    "            train_Y = train_Y.numpy()\n",
    "            train_X = train_X.numpy()\n",
    "            \n",
    "            # train the GP\n",
    "            res = optimise(train_X,train_Y)\n",
    "            kernel = GPy.kern.RBF(input_dim=dim,lengthscale= np.sqrt(res[0]),variance=res[1]) \n",
    "            m = GPy.models.GPRegression(train_X, train_Y,kernel)\n",
    "            m.Gaussian_noise.variance.fix(10**(-5))\n",
    "\n",
    "            beta = np.sqrt(np.log(train_Y.shape[0]))\n",
    "            standard_next_X,_ = LCB_acquisition_opt(m,bounds=standard_bounds,beta=beta)\n",
    "            X_next = unnormalize(torch.tensor(standard_next_X), bounds).reshape(-1,dim)            \n",
    "            Y_next = fun(X_next).reshape(-1,1)\n",
    "\n",
    "            # Append data\n",
    "            X_BO = torch.cat((X_BO, X_next), dim=0)\n",
    "            Y_BO = torch.cat((Y_BO, Y_next), dim=0)\n",
    "            \n",
    "            best_record.append(Y_BO.min().item())\n",
    "            #print(best_record)\n",
    "            \n",
    "    best_record = np.array(best_record)+fstar \n",
    "    BO_LCB.append(best_record)"
   ]
  },
  {
   "cell_type": "markdown",
   "metadata": {},
   "source": [
    "# GP+MES"
   ]
  },
  {
   "cell_type": "code",
   "execution_count": 8,
   "metadata": {},
   "outputs": [
    {
     "name": "stdout",
     "output_type": "stream",
     "text": [
      "0\n",
      "1\n",
      "2\n",
      "3\n",
      "4\n",
      "5\n",
      "6\n",
      "7\n",
      "8\n",
      "9\n"
     ]
    }
   ],
   "source": [
    "BO_MES = []\n",
    "\n",
    "for exp in range(N):\n",
    "    \n",
    "    print(exp)\n",
    "\n",
    "    seed = exp\n",
    "    \n",
    "\n",
    "    X_BO = get_initial_points(bounds, n_init,device,dtype,seed=seed)\n",
    "    Y_BO = torch.tensor(\n",
    "        [fun(x) for x in X_BO], dtype=dtype, device=device\n",
    "    ).reshape(-1,1)\n",
    "    \n",
    "    fstar_mes = 0.\n",
    "    \n",
    "\n",
    "    best_record = [Y_BO.min().item()]\n",
    "\n",
    "    for i in range(iter_num):\n",
    "\n",
    "            #print(i)\n",
    "            \n",
    "            train_Y = (Y_BO - Y_BO.mean()) / Y_BO.std()\n",
    "            train_X = normalize(X_BO, bounds)\n",
    "            \n",
    "            \n",
    "            fstar_standard = (fstar_mes - Y_BO.mean()) / Y_BO.std()\n",
    "            fstar_standard = fstar_standard.item()\n",
    "            \n",
    "            train_Y = train_Y.numpy()\n",
    "            train_X = train_X.numpy()\n",
    "            \n",
    "            # train the GP\n",
    "            res = optimise(train_X,train_Y)\n",
    "            # print('lengthscale is: ',np.sqrt(res[0])) \n",
    "            # print('variance is: ',res[1])\n",
    "            kernel = GPy.kern.RBF(input_dim=dim,lengthscale= np.sqrt(res[0]),variance=res[1]) \n",
    "            m = GPy.models.GPRegression(train_X, train_Y,kernel)\n",
    "            m.Gaussian_noise.variance.fix(10**(-5))\n",
    "\n",
    "            standard_next_X = MES_acquisition_opt(m,standard_bounds,fstar_standard)\n",
    "            X_next = unnormalize(torch.tensor(standard_next_X), bounds).reshape(-1,dim)            \n",
    "            Y_next = fun(X_next).reshape(-1,1)\n",
    "\n",
    "            # Append data\n",
    "            X_BO = torch.cat((X_BO, X_next), dim=0)\n",
    "            Y_BO = torch.cat((Y_BO, Y_next), dim=0)\n",
    "            \n",
    "            best_record.append(Y_BO.min().item())\n",
    "\n",
    "            \n",
    "    best_record = np.array(best_record)+fstar \n",
    "    BO_MES.append(best_record)"
   ]
  },
  {
   "cell_type": "markdown",
   "metadata": {},
   "source": [
    "# ERM"
   ]
  },
  {
   "cell_type": "code",
   "execution_count": 11,
   "metadata": {},
   "outputs": [
    {
     "name": "stdout",
     "output_type": "stream",
     "text": [
      "0\n",
      "1\n",
      "2\n",
      "3\n",
      "4\n",
      "5\n",
      "6\n",
      "7\n",
      "8\n",
      "9\n"
     ]
    }
   ],
   "source": [
    "BO_ERM = []\n",
    "\n",
    "for exp in range(N):\n",
    "\n",
    "  print(exp)  \n",
    "  seed = exp\n",
    "  \n",
    "  fstar0 = 0.\n",
    "  Trans = False\n",
    "\n",
    "  X_BO = get_initial_points(bounds, n_init,device,dtype,seed=seed)\n",
    "  Y_BO = torch.tensor(\n",
    "            [fun(x) for x in X_BO], dtype=dtype, device=device\n",
    "        ).reshape(-1,1)\n",
    "\n",
    "  best_record = [Y_BO.min().item()]\n",
    "\n",
    "  for iter in range(iter_num):\n",
    "\n",
    "    #print(iter)\n",
    "    train_Y = (Y_BO - Y_BO.mean()) / Y_BO.std()\n",
    "    train_X = normalize(X_BO, bounds)\n",
    "    \n",
    "    train_Y = train_Y.numpy()\n",
    "    train_X = train_X.numpy()\n",
    "    \n",
    "\n",
    "    fstar_standard = (fstar0 - Y_BO.mean()) / Y_BO.std()\n",
    "    fstar_standard = fstar_standard.item()\n",
    "    \n",
    "    if not Trans:\n",
    "      minimal = np.min(train_X)\n",
    "      res = optimise(train_X,train_Y)\n",
    "      kernel = GPy.kern.RBF(input_dim=dim,lengthscale= np.sqrt(res[0]),variance=res[1]) \n",
    "      m = GPy.models.GPRegression(train_X, train_Y,kernel)\n",
    "      m.Gaussian_noise.variance.fix(10**(-5))\n",
    "\n",
    "      standard_next_X = EI_acquisition_opt(m,bounds=standard_bounds,f_best=minimal)\n",
    "      \n",
    "      beta = np.sqrt(np.log(train_X.shape[0]))\n",
    "      _,lcb = LCB_acquisition_opt(m,standard_bounds,beta)\n",
    "      if lcb < fstar_standard:\n",
    "        Trans = True\n",
    "      \n",
    "    else:\n",
    "      \n",
    "      #print('transfromed GP')\n",
    "              \n",
    "      train_Y_transform = transform(y=train_Y,fstar=fstar_standard)\n",
    "      mean_temp = np.mean(train_Y_transform)\n",
    "      \n",
    "      res = optimise(train_X,(train_Y_transform-mean_temp))\n",
    "      kernel = GPy.kern.RBF(input_dim=dim,lengthscale= np.sqrt(res[0]),variance=res[1]) \n",
    "      m = GPy.models.GPRegression(train_X, train_Y_transform-mean_temp,kernel)\n",
    "      m.Gaussian_noise.variance.fix(10**(-5))\n",
    "      standard_next_X,erm_value = ERM_acquisition_opt(m,bounds=standard_bounds,fstar=fstar_standard,mean_temp=mean_temp)\n",
    "    \n",
    "    \n",
    "    X_next = unnormalize(torch.tensor(standard_next_X), bounds).reshape(-1,dim)     \n",
    "    Y_next = fun(X_next).reshape(-1,1)\n",
    "\n",
    "    # Append data\n",
    "    X_BO = torch.cat((X_BO, X_next), dim=0)\n",
    "    Y_BO = torch.cat((Y_BO, Y_next), dim=0)\n",
    "\n",
    "    best_value = float(Y_BO.min())\n",
    "    best_record.append(best_value)\n",
    "\n",
    "\n",
    "  best_record = np.array(best_record)+fstar\n",
    "  BO_ERM.append(best_record)"
   ]
  },
  {
   "cell_type": "markdown",
   "metadata": {},
   "source": [
    "# log GP+TEI"
   ]
  },
  {
   "cell_type": "code",
   "execution_count": 12,
   "metadata": {},
   "outputs": [
    {
     "name": "stdout",
     "output_type": "stream",
     "text": [
      "0\n",
      "1\n",
      "2\n",
      "3\n",
      "4\n",
      "5\n",
      "6\n",
      "7\n",
      "8\n",
      "9\n"
     ]
    }
   ],
   "source": [
    "Warped_BO_TEI2 = []\n",
    "\n",
    "for exp in range(N):\n",
    "    \n",
    "    print(exp)\n",
    "\n",
    "    seed = exp\n",
    "\n",
    "    X_BO = get_initial_points(bounds, n_init,device,dtype,seed=seed)\n",
    "    Y_BO = torch.tensor(\n",
    "        [fun(x) for x in X_BO], dtype=dtype, device=device\n",
    "    ).reshape(-1,1)\n",
    "\n",
    "    best_record = [Y_BO.min().item()]\n",
    "\n",
    "    for i in range(iter_num):\n",
    "            \n",
    "            #print(i)\n",
    "        \n",
    "            train_Y = Y_BO.numpy()\n",
    "            train_X = normalize(X_BO, bounds)\n",
    "            train_X = train_X.numpy()\n",
    "            \n",
    "            # train the GP\n",
    "            res = optimise_warp(train_X, train_Y)\n",
    "            lengthscale = np.sqrt(res[0])\n",
    "            variance = res[1]\n",
    "            c = res[2]\n",
    "            \n",
    "            # print('lengthscale is: ', lengthscale)\n",
    "            # print('variance is: ',variance)\n",
    "            # print('c is: ',c)\n",
    "            \n",
    "            warp_Y = np.log(train_Y+c)\n",
    "            mean_warp_Y = np.mean(warp_Y) # use to predict mean\n",
    "            warp_Y_standard = warp_Y-mean_warp_Y\n",
    "              \n",
    "            \n",
    "            kernel = GPy.kern.RBF(input_dim=dim,lengthscale= lengthscale,variance=variance)  #np.sqrt(res[0])\n",
    "            m = GPy.models.GPRegression(train_X, warp_Y_standard,kernel)\n",
    "            m.Gaussian_noise.variance.fix(10**(-5))\n",
    "            \n",
    "            standard_next_X = Warped_TEI2_acquisition_opt(model=m,bounds=standard_bounds,f_best=best_record[-1],c=c,f_mean=mean_warp_Y)\n",
    "            X_next = unnormalize(torch.tensor(standard_next_X), bounds).reshape(-1,dim)            \n",
    "            Y_next = fun(X_next).reshape(-1,1)\n",
    "\n",
    "            # Append data\n",
    "            X_BO = torch.cat((X_BO, X_next), dim=0)\n",
    "            Y_BO = torch.cat((Y_BO, Y_next), dim=0)\n",
    "            \n",
    "            best_record.append(Y_BO.min().item())\n",
    "            #print(best_record[-1])\n",
    "            \n",
    "    best_record = np.array(best_record)+fstar         \n",
    "    Warped_BO_TEI2.append(best_record)"
   ]
  },
  {
   "cell_type": "markdown",
   "metadata": {},
   "source": [
    "# plot"
   ]
  },
  {
   "cell_type": "code",
   "execution_count": 13,
   "metadata": {},
   "outputs": [
    {
     "data": {
      "text/plain": [
       "<matplotlib.legend.Legend at 0x7fe1962909a0>"
      ]
     },
     "execution_count": 13,
     "metadata": {},
     "output_type": "execute_result"
    },
    {
     "data": {
      "image/png": "[encoded data removed]",
      "text/plain": [
       "<Figure size 640x480 with 1 Axes>"
      ]
     },
     "metadata": {},
     "output_type": "display_data"
    }
   ],
   "source": [
    "N = 10\n",
    "\n",
    "total_record = np.array(BO_EI)-fstar\n",
    "mean = np.mean(total_record,axis=0)\n",
    "std = np.std(total_record,axis=0)\n",
    "iter = np.array(range(mean.shape[0]))\n",
    "plt.plot(mean,linewidth=3,label='GP+EI',color='blue')\n",
    "plt.fill_between(iter, mean-std/np.sqrt(N), mean+std/np.sqrt(N),alpha=0.25,color='blue')\n",
    "\n",
    "total_record = np.array(BO_MES)-fstar\n",
    "mean = np.mean(total_record,axis=0)\n",
    "std = np.std(total_record,axis=0)\n",
    "iter = np.array(range(mean.shape[0]))\n",
    "plt.plot(mean,linewidth=3,label='GP+MES',color='#c22f2f')\n",
    "plt.fill_between(iter, mean-std/np.sqrt(N), mean+std/np.sqrt(N),alpha=0.25,color='#c22f2f')\n",
    "\n",
    "total_record = np.array(Warped_BO_TEI2)-fstar\n",
    "mean = np.mean(total_record,axis=0)\n",
    "std = np.std(total_record,axis=0)\n",
    "iter = np.array(range(mean.shape[0]))\n",
    "plt.plot(mean,linewidth=3,label='log GP +TEI2',color='yellow')\n",
    "plt.fill_between(iter, mean-std/np.sqrt(N), mean+std/np.sqrt(N),alpha=0.25,color='yellow')\n",
    "\n",
    "total_record = np.array(BO_ERM)-fstar\n",
    "mean = np.mean(total_record,axis=0)\n",
    "std = np.std(total_record,axis=0)\n",
    "iter = np.array(range(mean.shape[0]))\n",
    "plt.plot(mean,linewidth=3,label='ERM',color='black')\n",
    "plt.fill_between(iter, mean-std/np.sqrt(N), mean+std/np.sqrt(N),alpha=0.25,color='black')\n",
    "\n",
    "total_record = np.array(BO_LCB)-fstar\n",
    "mean = np.mean(total_record,axis=0)\n",
    "std = np.std(total_record,axis=0)\n",
    "iter = np.array(range(mean.shape[0]))\n",
    "plt.plot(mean,linewidth=3,label='LCB',color='green')\n",
    "plt.fill_between(iter, mean-std/np.sqrt(N), mean+std/np.sqrt(N),alpha=0.25,color='green')\n",
    "\n",
    "plt.legend()"
   ]
  }
 ],
 "metadata": {
  "kernelspec": {
   "display_name": "Python 3.9.16 64-bit ('known_boundary': conda)",
   "language": "python",
   "name": "python3"
  },
  "language_info": {
   "codemirror_mode": {
    "name": "ipython",
    "version": 3
   },
   "file_extension": ".py",
   "mimetype": "text/x-python",
   "name": "python",
   "nbconvert_exporter": "python",
   "pygments_lexer": "ipython3",
   "version": "3.9.16"
  },
  "orig_nbformat": 4,
  "vscode": {
   "interpreter": {
    "hash": "452d48a5b48f3a55107387e321143eb3eae83989acbdba28ba53d2ab743832f0"
   }
  }
 },
 "nbformat": 4,
 "nbformat_minor": 2
}
